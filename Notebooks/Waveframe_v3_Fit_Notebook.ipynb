## notebooks/

This folder contains computational notebooks used to explore, fit, and visualize the Waveframe 3.0 entropic cosmology model against observational data.

### Contents:

- `Waveframe_v3_Fit_Notebook.ipynb` – Demonstrates the full χ² fitting procedure for the entropy-based H(z) model against Pantheon+ supernova data, including:
  - Implementation of the dynamic γ(z) function
  - Computation of H(z), d_L(z), and μ(z)
  - Optimized fit using `scipy.optimize.minimize`
  - Residual plots and reduced χ² output
  - Diagnostic plots for theory-data comparison
